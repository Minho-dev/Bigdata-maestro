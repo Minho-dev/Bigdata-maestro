{
 "cells": [
  {
   "cell_type": "code",
   "execution_count": 1,
   "metadata": {},
   "outputs": [],
   "source": [
    "import csv"
   ]
  },
  {
   "cell_type": "code",
   "execution_count": 4,
   "metadata": {},
   "outputs": [],
   "source": [
    "import numpy as np"
   ]
  },
  {
   "cell_type": "code",
   "execution_count": 6,
   "metadata": {},
   "outputs": [
    {
     "name": "stdout",
     "output_type": "stream",
     "text": [
      "['1', '2', '3', '4', '5', '6', '7', '8', '9', '10', '11', '12', '13', '14', '15', '16', '17', '18', '19', '20', '21', '23', '25', '26', '27', '28', '29', '30', '31', '32', '33', '34', '35', '36', '37', '38', '39', '40', '41', '42', '43', '44']\n",
      "['George Washington', 'John Adams', 'Thomas Jefferson', 'James Madison', 'James Monroe', 'John Quincy Adams', 'Andrew Jackson', 'Martin Van Buren', 'William Henry Harrison', 'John Tyler', 'James K. Polk', 'Zachary Taylor', 'Millard Fillmore', 'Franklin Pierce', 'James Buchanan', 'Abraham Lincoln', 'Andrew Johnson', 'Ulysses S. Grant', 'Rutherford B. Hayes', 'James A. Garfield', 'Chester A. Arthur', 'Benjamin Harrison', 'William McKinley', 'Theodore Roosevelt', 'William Howard Taft', 'Woodrow Wilson', 'Warren G. Harding', 'Calvin Coolidge', 'Herbert Hoover', 'Franklin D. Roosevelt', 'Harry S. Truman', 'Dwight D. Eisenhower', 'John F. Kennedy', 'Lyndon B. Johnson', 'Richard Nixon', 'Gerald Ford', 'Jimmy Carter', 'Ronald Reagan', 'George H. W. Bush', 'Bill Clinton', 'George W. Bush', 'Barack Obama']\n",
      "[189, 170, 189, 163, 183, 171, 185, 168, 173, 183, 173, 173, 175, 178, 183, 193, 178, 173, 174, 183, 183, 168, 170, 178, 182, 180, 183, 178, 182, 188, 175, 179, 183, 193, 182, 183, 177, 185, 188, 188, 182, 185]\n"
     ]
    }
   ],
   "source": [
    "order = []\n",
    "name = []\n",
    "height = []\n",
    "index = 0\n",
    "with open( 'president_heights.csv', 'r' ) as f:\n",
    "    reader = csv.reader( f )\n",
    "    for row in reader:\n",
    "        if index != 0:\n",
    "            order.append( row[0] )\n",
    "            name.append( row[1] )\n",
    "            height.append( int(row[2]) )\n",
    "        index += 1\n",
    "print( order )\n",
    "print( name )\n",
    "print( height )"
   ]
  },
  {
   "cell_type": "code",
   "execution_count": 9,
   "metadata": {},
   "outputs": [],
   "source": [
    "order = np.array( order )\n",
    "name = np.array( name )\n",
    "height = np.array( height )"
   ]
  },
  {
   "cell_type": "code",
   "execution_count": 11,
   "metadata": {},
   "outputs": [
    {
     "data": {
      "text/plain": [
       "179.73809523809524"
      ]
     },
     "execution_count": 11,
     "metadata": {},
     "output_type": "execute_result"
    }
   ],
   "source": [
    "np.mean( height )"
   ]
  },
  {
   "cell_type": "code",
   "execution_count": 17,
   "metadata": {},
   "outputs": [
    {
     "data": {
      "text/plain": [
       "array(['Abraham Lincoln', 'Lyndon B. Johnson'], dtype='<U22')"
      ]
     },
     "execution_count": 17,
     "metadata": {},
     "output_type": "execute_result"
    }
   ],
   "source": [
    "name[ height == np.max(height) ]"
   ]
  },
  {
   "cell_type": "code",
   "execution_count": 13,
   "metadata": {},
   "outputs": [
    {
     "data": {
      "text/plain": [
       "array(['James Madison'], dtype='<U22')"
      ]
     },
     "execution_count": 13,
     "metadata": {},
     "output_type": "execute_result"
    }
   ],
   "source": [
    "name[ height == np.min(height) ]"
   ]
  },
  {
   "cell_type": "code",
   "execution_count": 18,
   "metadata": {},
   "outputs": [
    {
     "data": {
      "text/plain": [
       "array(['John Adams', 'James Madison', 'John Quincy Adams',\n",
       "       'Martin Van Buren', 'William Henry Harrison', 'James K. Polk',\n",
       "       'Zachary Taylor', 'Millard Fillmore', 'Franklin Pierce',\n",
       "       'Andrew Johnson', 'Ulysses S. Grant', 'Rutherford B. Hayes',\n",
       "       'Benjamin Harrison', 'William McKinley', 'Theodore Roosevelt',\n",
       "       'Calvin Coolidge', 'Harry S. Truman', 'Dwight D. Eisenhower',\n",
       "       'Jimmy Carter'], dtype='<U22')"
      ]
     },
     "execution_count": 18,
     "metadata": {},
     "output_type": "execute_result"
    }
   ],
   "source": [
    "name[ height <= np.mean( height ) ]"
   ]
  },
  {
   "cell_type": "code",
   "execution_count": 19,
   "metadata": {},
   "outputs": [
    {
     "data": {
      "text/plain": [
       "array(['George Washington', 'Thomas Jefferson', 'James Monroe',\n",
       "       'Andrew Jackson', 'John Tyler', 'James Buchanan',\n",
       "       'Abraham Lincoln', 'James A. Garfield', 'Chester A. Arthur',\n",
       "       'William Howard Taft', 'Woodrow Wilson', 'Warren G. Harding',\n",
       "       'Herbert Hoover', 'Franklin D. Roosevelt', 'John F. Kennedy',\n",
       "       'Lyndon B. Johnson', 'Richard Nixon', 'Gerald Ford',\n",
       "       'Ronald Reagan', 'George H. W. Bush', 'Bill Clinton',\n",
       "       'George W. Bush', 'Barack Obama'], dtype='<U22')"
      ]
     },
     "execution_count": 19,
     "metadata": {},
     "output_type": "execute_result"
    }
   ],
   "source": [
    "name[ height >= np.mean( height ) ]"
   ]
  },
  {
   "cell_type": "code",
   "execution_count": 89,
   "metadata": {},
   "outputs": [
    {
     "name": "stdout",
     "output_type": "stream",
     "text": [
      "['0101', '0102', '0103', '0104', '0105', '0106', '0107', '0108', '0109', '0110', '0111', '0112', '0113', '0114', '0115', '0116', '0117', '0118', '0119', '0120', '0121', '0122', '0123', '0124', '0125', '0126', '0127', '0128', '0129', '0130', '0131', '0201', '0202', '0203', '0204', '0205', '0206', '0207', '0208', '0209', '0210', '0211', '0212', '0213', '0214', '0215', '0216', '0217', '0218', '0219', '0220', '0221', '0222', '0223', '0224', '0225', '0226', '0227', '0228', '0301', '0302', '0303', '0304', '0305', '0306', '0307', '0308', '0309', '0310', '0311', '0312', '0313', '0314', '0315', '0316', '0317', '0318', '0319', '0320', '0321', '0322', '0323', '0324', '0325', '0326', '0327', '0328', '0329', '0330', '0331', '0401', '0402', '0403', '0404', '0405', '0406', '0407', '0408', '0409', '0410', '0411', '0412', '0413', '0414', '0415', '0416', '0417', '0418', '0419', '0420', '0421', '0422', '0423', '0424', '0425', '0426', '0427', '0428', '0429', '0430', '0501', '0502', '0503', '0504', '0505', '0506', '0507', '0508', '0509', '0510', '0511', '0512', '0513', '0514', '0515', '0516', '0517', '0518', '0519', '0520', '0521', '0522', '0523', '0524', '0525', '0526', '0527', '0528', '0529', '0530', '0531', '0601', '0602', '0603', '0604', '0605', '0606', '0607', '0608', '0609', '0610', '0611', '0612', '0613', '0614', '0615', '0616', '0617', '0618', '0619', '0620', '0621', '0622', '0623', '0624', '0625', '0626', '0627', '0628', '0629', '0630', '0701', '0702', '0703', '0704', '0705', '0706', '0707', '0708', '0709', '0710', '0711', '0712', '0713', '0714', '0715', '0716', '0717', '0718', '0719', '0720', '0721', '0722', '0723', '0724', '0725', '0726', '0727', '0728', '0729', '0730', '0731', '0801', '0802', '0803', '0804', '0805', '0806', '0807', '0808', '0809', '0810', '0811', '0812', '0813', '0814', '0815', '0816', '0817', '0818', '0819', '0820', '0821', '0822', '0823', '0824', '0825', '0826', '0827', '0828', '0829', '0830', '0831', '0901', '0902', '0903', '0904', '0905', '0906', '0907', '0908', '0909', '0910', '0911', '0912', '0913', '0914', '0915', '0916', '0917', '0918', '0919', '0920', '0921', '0922', '0923', '0924', '0925', '0926', '0927', '0928', '0929', '0930', '1001', '1002', '1003', '1004', '1005', '1006', '1007', '1008', '1009', '1010', '1011', '1012', '1013', '1014', '1015', '1016', '1017', '1018', '1019', '1020', '1021', '1022', '1023', '1024', '1025', '1026', '1027', '1028', '1029', '1030', '1031', '1101', '1102', '1103', '1104', '1105', '1106', '1107', '1108', '1109', '1110', '1111', '1112', '1113', '1114', '1115', '1116', '1117', '1118', '1119', '1120', '1121', '1122', '1123', '1124', '1125', '1126', '1127', '1128', '1129', '1130', '1201', '1202', '1203', '1204', '1205', '1206', '1207', '1208', '1209', '1210', '1211', '1212', '1213', '1214', '1215', '1216', '1217', '1218', '1219', '1220', '1221', '1222', '1223', '1224', '1225', '1226', '1227', '1228', '1229', '1230', '1231']\n",
      "\n",
      "[0, 41, 15, 0, 0, 3, 122, 97, 58, 43, 213, 15, 0, 0, 0, 0, 0, 0, 0, 0, 0, 5, 0, 0, 0, 0, 0, 89, 216, 0, 23, 20, 0, 0, 0, 0, 0, 0, 51, 5, 183, 170, 46, 18, 94, 117, 264, 145, 152, 10, 30, 28, 25, 61, 130, 3, 0, 0, 0, 5, 191, 107, 165, 467, 30, 0, 323, 43, 188, 0, 0, 5, 69, 81, 277, 3, 0, 5, 0, 0, 0, 0, 0, 41, 36, 3, 221, 140, 0, 0, 0, 0, 25, 0, 46, 0, 0, 46, 0, 0, 0, 0, 0, 0, 5, 109, 185, 0, 137, 0, 51, 142, 89, 124, 0, 33, 69, 0, 0, 0, 0, 0, 333, 160, 51, 0, 0, 137, 20, 5, 0, 0, 0, 0, 0, 0, 0, 0, 0, 0, 0, 0, 38, 0, 56, 0, 0, 0, 0, 0, 0, 0, 0, 0, 0, 0, 0, 0, 0, 0, 0, 0, 18, 64, 0, 5, 36, 13, 0, 8, 3, 0, 0, 0, 0, 0, 0, 18, 23, 0, 0, 0, 0, 0, 0, 0, 0, 0, 0, 0, 0, 0, 0, 0, 0, 0, 0, 0, 0, 0, 0, 0, 3, 193, 0, 0, 0, 0, 0, 0, 0, 0, 0, 5, 0, 0, 0, 0, 0, 0, 0, 0, 5, 127, 216, 0, 10, 0, 0, 0, 0, 0, 0, 0, 0, 0, 0, 0, 0, 0, 0, 84, 13, 0, 30, 0, 0, 0, 0, 0, 0, 0, 0, 0, 0, 0, 0, 0, 0, 5, 3, 0, 0, 0, 3, 183, 203, 43, 89, 0, 0, 8, 0, 0, 0, 0, 0, 0, 0, 0, 0, 0, 3, 74, 0, 76, 71, 86, 0, 33, 150, 0, 117, 10, 320, 94, 41, 61, 15, 8, 127, 5, 254, 170, 0, 18, 109, 41, 48, 41, 0, 0, 51, 0, 0, 0, 0, 0, 0, 0, 0, 0, 0, 36, 152, 5, 119, 13, 183, 3, 33, 343, 36, 0, 0, 0, 0, 8, 30, 74, 0, 91, 99, 130, 69, 0, 0, 0, 0, 0, 28, 130, 30, 196, 0, 0, 206, 53, 0, 0, 33, 41, 0, 0, 0]\n"
     ]
    }
   ],
   "source": [
    "date = []\n",
    "prcp = []\n",
    "index = 0\n",
    "with open( 'Seattle2014.csv', 'r' ) as f:\n",
    "    reader = csv.reader( f )\n",
    "    for row in reader:\n",
    "        if index != 0:\n",
    "            date.append( row[2][4::] )\n",
    "            prcp.append( int(row[3]) )\n",
    "        index += 1\n",
    "print( date )\n",
    "print()\n",
    "print( prcp )"
   ]
  },
  {
   "cell_type": "code",
   "execution_count": 90,
   "metadata": {},
   "outputs": [],
   "source": [
    "date = np.array( date )\n",
    "prcp = np.array( prcp )"
   ]
  },
  {
   "cell_type": "code",
   "execution_count": 91,
   "metadata": {},
   "outputs": [
    {
     "data": {
      "text/plain": [
       "33.775342465753425"
      ]
     },
     "execution_count": 91,
     "metadata": {},
     "output_type": "execute_result"
    }
   ],
   "source": [
    "np.mean( prcp )"
   ]
  },
  {
   "cell_type": "code",
   "execution_count": 92,
   "metadata": {},
   "outputs": [
    {
     "data": {
      "text/plain": [
       "array(['0102', '0107', '0108', '0109', '0110', '0111', '0128', '0129',\n",
       "       '0208', '0210', '0211', '0212', '0214', '0215', '0216', '0217',\n",
       "       '0218', '0223', '0224', '0302', '0303', '0304', '0305', '0308',\n",
       "       '0309', '0310', '0314', '0315', '0316', '0325', '0326', '0328',\n",
       "       '0329', '0405', '0408', '0416', '0417', '0419', '0421', '0422',\n",
       "       '0423', '0424', '0427', '0503', '0504', '0505', '0508', '0523',\n",
       "       '0525', '0613', '0616', '0723', '0812', '0813', '0830', '0923',\n",
       "       '0924', '0925', '0926', '1011', '1013', '1014', '1015', '1018',\n",
       "       '1020', '1022', '1023', '1024', '1025', '1028', '1030', '1031',\n",
       "       '1103', '1104', '1105', '1106', '1109', '1120', '1121', '1123',\n",
       "       '1125', '1128', '1129', '1206', '1208', '1209', '1210', '1211',\n",
       "       '1218', '1220', '1223', '1224', '1228'], dtype='<U4')"
      ]
     },
     "execution_count": 92,
     "metadata": {},
     "output_type": "execute_result"
    }
   ],
   "source": [
    "date[ prcp >= np.mean(prcp)]"
   ]
  },
  {
   "cell_type": "code",
   "execution_count": 93,
   "metadata": {},
   "outputs": [
    {
     "data": {
      "text/plain": [
       "array(['0101', '0103', '0104', '0105', '0106', '0112', '0113', '0114',\n",
       "       '0115', '0116', '0117', '0118', '0119', '0120', '0121', '0122',\n",
       "       '0123', '0124', '0125', '0126', '0127', '0130', '0131', '0201',\n",
       "       '0202', '0203', '0204', '0205', '0206', '0207', '0209', '0213',\n",
       "       '0219', '0220', '0221', '0222', '0225', '0226', '0227', '0228',\n",
       "       '0301', '0306', '0307', '0311', '0312', '0313', '0317', '0318',\n",
       "       '0319', '0320', '0321', '0322', '0323', '0324', '0327', '0330',\n",
       "       '0331', '0401', '0402', '0403', '0404', '0406', '0407', '0409',\n",
       "       '0410', '0411', '0412', '0413', '0414', '0415', '0418', '0420',\n",
       "       '0425', '0426', '0428', '0429', '0430', '0501', '0502', '0506',\n",
       "       '0507', '0509', '0510', '0511', '0512', '0513', '0514', '0515',\n",
       "       '0516', '0517', '0518', '0519', '0520', '0521', '0522', '0524',\n",
       "       '0526', '0527', '0528', '0529', '0530', '0531', '0601', '0602',\n",
       "       '0603', '0604', '0605', '0606', '0607', '0608', '0609', '0610',\n",
       "       '0611', '0612', '0614', '0615', '0617', '0618', '0619', '0620',\n",
       "       '0621', '0622', '0623', '0624', '0625', '0626', '0627', '0628',\n",
       "       '0629', '0630', '0701', '0702', '0703', '0704', '0705', '0706',\n",
       "       '0707', '0708', '0709', '0710', '0711', '0712', '0713', '0714',\n",
       "       '0715', '0716', '0717', '0718', '0719', '0720', '0721', '0722',\n",
       "       '0724', '0725', '0726', '0727', '0728', '0729', '0730', '0731',\n",
       "       '0801', '0802', '0803', '0804', '0805', '0806', '0807', '0808',\n",
       "       '0809', '0810', '0811', '0814', '0815', '0816', '0817', '0818',\n",
       "       '0819', '0820', '0821', '0822', '0823', '0824', '0825', '0826',\n",
       "       '0827', '0828', '0829', '0831', '0901', '0902', '0903', '0904',\n",
       "       '0905', '0906', '0907', '0908', '0909', '0910', '0911', '0912',\n",
       "       '0913', '0914', '0915', '0916', '0917', '0918', '0919', '0920',\n",
       "       '0921', '0922', '0927', '0928', '0929', '0930', '1001', '1002',\n",
       "       '1003', '1004', '1005', '1006', '1007', '1008', '1009', '1010',\n",
       "       '1012', '1016', '1017', '1019', '1021', '1026', '1027', '1029',\n",
       "       '1101', '1102', '1107', '1108', '1110', '1111', '1112', '1113',\n",
       "       '1114', '1115', '1116', '1117', '1118', '1119', '1122', '1124',\n",
       "       '1126', '1127', '1130', '1201', '1202', '1203', '1204', '1205',\n",
       "       '1207', '1212', '1213', '1214', '1215', '1216', '1217', '1219',\n",
       "       '1221', '1222', '1225', '1226', '1227', '1229', '1230', '1231'],\n",
       "      dtype='<U4')"
      ]
     },
     "execution_count": 93,
     "metadata": {},
     "output_type": "execute_result"
    }
   ],
   "source": [
    "date[ prcp <= np.mean(prcp)]"
   ]
  },
  {
   "cell_type": "code",
   "execution_count": 26,
   "metadata": {},
   "outputs": [
    {
     "data": {
      "text/plain": [
       "(467, 0)"
      ]
     },
     "execution_count": 26,
     "metadata": {},
     "output_type": "execute_result"
    }
   ],
   "source": [
    "np.max( prcp ), np.min( prcp )"
   ]
  },
  {
   "cell_type": "code",
   "execution_count": 27,
   "metadata": {},
   "outputs": [
    {
     "data": {
      "text/plain": [
       "215"
      ]
     },
     "execution_count": 27,
     "metadata": {},
     "output_type": "execute_result"
    }
   ],
   "source": [
    "np.sum( prcp == 0 )"
   ]
  },
  {
   "cell_type": "code",
   "execution_count": 28,
   "metadata": {},
   "outputs": [
    {
     "data": {
      "text/plain": [
       "150"
      ]
     },
     "execution_count": 28,
     "metadata": {},
     "output_type": "execute_result"
    }
   ],
   "source": [
    "np.sum( prcp != 0 )"
   ]
  },
  {
   "cell_type": "code",
   "execution_count": 30,
   "metadata": {},
   "outputs": [
    {
     "data": {
      "text/plain": [
       "array(['0305'], dtype='<U4')"
      ]
     },
     "execution_count": 30,
     "metadata": {},
     "output_type": "execute_result"
    }
   ],
   "source": [
    "date[ prcp == np.max( prcp ) ]"
   ]
  },
  {
   "cell_type": "code",
   "execution_count": 31,
   "metadata": {},
   "outputs": [
    {
     "data": {
      "text/plain": [
       "array(['0101', '0104', '0105', '0113', '0114', '0115', '0116', '0117',\n",
       "       '0118', '0119', '0120', '0121', '0123', '0124', '0125', '0126',\n",
       "       '0127', '0130', '0202', '0203', '0204', '0205', '0206', '0207',\n",
       "       '0226', '0227', '0228', '0307', '0311', '0312', '0318', '0320',\n",
       "       '0321', '0322', '0323', '0324', '0330', '0331', '0401', '0402',\n",
       "       '0404', '0406', '0407', '0409', '0410', '0411', '0412', '0413',\n",
       "       '0414', '0418', '0420', '0425', '0428', '0429', '0430', '0501',\n",
       "       '0502', '0506', '0507', '0511', '0512', '0513', '0514', '0515',\n",
       "       '0516', '0517', '0518', '0519', '0520', '0521', '0522', '0524',\n",
       "       '0526', '0527', '0528', '0529', '0530', '0531', '0601', '0602',\n",
       "       '0603', '0604', '0605', '0606', '0607', '0608', '0609', '0610',\n",
       "       '0611', '0614', '0618', '0621', '0622', '0623', '0624', '0625',\n",
       "       '0626', '0629', '0630', '0701', '0702', '0703', '0704', '0705',\n",
       "       '0706', '0707', '0708', '0709', '0710', '0711', '0712', '0713',\n",
       "       '0714', '0715', '0716', '0717', '0718', '0719', '0720', '0721',\n",
       "       '0724', '0725', '0726', '0727', '0728', '0729', '0730', '0731',\n",
       "       '0801', '0803', '0804', '0805', '0806', '0807', '0808', '0809',\n",
       "       '0810', '0814', '0816', '0817', '0818', '0819', '0820', '0821',\n",
       "       '0822', '0823', '0824', '0825', '0826', '0827', '0828', '0829',\n",
       "       '0901', '0903', '0904', '0905', '0906', '0907', '0908', '0909',\n",
       "       '0910', '0911', '0912', '0913', '0914', '0915', '0916', '0919',\n",
       "       '0920', '0921', '0927', '0928', '0930', '1001', '1002', '1003',\n",
       "       '1004', '1005', '1006', '1007', '1008', '1009', '1012', '1016',\n",
       "       '1019', '1101', '1107', '1108', '1110', '1111', '1112', '1113',\n",
       "       '1114', '1115', '1116', '1117', '1118', '1119', '1130', '1201',\n",
       "       '1202', '1203', '1207', '1212', '1213', '1214', '1215', '1216',\n",
       "       '1221', '1222', '1225', '1226', '1229', '1230', '1231'],\n",
       "      dtype='<U4')"
      ]
     },
     "execution_count": 31,
     "metadata": {},
     "output_type": "execute_result"
    }
   ],
   "source": [
    "date[ prcp == np.min( prcp ) ]"
   ]
  },
  {
   "cell_type": "code",
   "execution_count": 43,
   "metadata": {},
   "outputs": [],
   "source": [
    "area = []\n",
    "week = []\n",
    "date = []\n",
    "name = []\n",
    "weather = []\n",
    "m10 = []\n",
    "m20 = []\n",
    "m30 = []\n",
    "m40 = []\n",
    "m50 = []\n",
    "f10 = []\n",
    "f20 = []\n",
    "f30 = []\n",
    "f40 = []\n",
    "f50 = []\n",
    "index = 0\n",
    "with open( 'korea_floating_population_data.csv', 'r' ) as f:\n",
    "    reader = csv.reader( f )\n",
    "    for row in reader:\n",
    "        if index != 0:\n",
    "            area.append( row[ 1 ] )\n",
    "            week.append( row[ 2 ] )\n",
    "            date.append( row[ 3 ] )\n",
    "            name.append( row[ 7 ] )\n",
    "            weather.append( row[ 8 ] )\n",
    "            m10.append( int(row[ 9 ]) )\n",
    "            m20.append( int(row[ 10 ]) )\n",
    "            m30.append( int(row[ 11 ]) )\n",
    "            m40.append( int(row[ 12 ]) )\n",
    "            m50.append( int(row[ 13 ]) )\n",
    "            f10.append( int(row[ 14 ]) )\n",
    "            f20.append( int(row[ 15 ]) )\n",
    "            f30.append( int(row[ 16 ]) )\n",
    "            f40.append( int(row[ 17 ]) )\n",
    "            f50.append( int(row[ 18 ]) )\n",
    "            \n",
    "        index += 1"
   ]
  },
  {
   "cell_type": "code",
   "execution_count": 44,
   "metadata": {},
   "outputs": [],
   "source": [
    "area = np.array( area )\n",
    "week = np.array( week )\n",
    "date = np.array( date )\n",
    "name = np.array( name )\n",
    "weather = np.array( weather )\n",
    "pop = np.array( [ m10, m20, m30, m40, m50, f10, f20, f30, f40, f50 ] )"
   ]
  },
  {
   "cell_type": "code",
   "execution_count": 45,
   "metadata": {},
   "outputs": [
    {
     "data": {
      "text/plain": [
       "array([[ 2, 19, 13, ..., 25, 12, 15],\n",
       "       [24, 44, 33, ..., 13, 15, 20],\n",
       "       [68, 28, 34, ..., 29, 35, 32],\n",
       "       ...,\n",
       "       [64, 49, 29, ..., 37, 31, 29],\n",
       "       [44, 43, 28, ..., 19, 25, 31],\n",
       "       [26, 18, 12, ..., 45, 37, 43]])"
      ]
     },
     "execution_count": 45,
     "metadata": {},
     "output_type": "execute_result"
    }
   ],
   "source": [
    "pop"
   ]
  },
  {
   "cell_type": "code",
   "execution_count": 51,
   "metadata": {},
   "outputs": [],
   "source": [
    "pop_sum = np.add.reduce( pop )"
   ]
  },
  {
   "cell_type": "code",
   "execution_count": 50,
   "metadata": {},
   "outputs": [
    {
     "data": {
      "text/plain": [
       "array([ True,  True, False, ...,  True,  True,  True])"
      ]
     },
     "execution_count": 50,
     "metadata": {},
     "output_type": "execute_result"
    }
   ],
   "source": [
    "weather == '맑음'"
   ]
  },
  {
   "cell_type": "code",
   "execution_count": 55,
   "metadata": {},
   "outputs": [
    {
     "data": {
      "text/plain": [
       "9903515"
      ]
     },
     "execution_count": 55,
     "metadata": {},
     "output_type": "execute_result"
    }
   ],
   "source": [
    "np.sum( pop_sum[ weather == '맑음' ] )"
   ]
  },
  {
   "cell_type": "code",
   "execution_count": 56,
   "metadata": {},
   "outputs": [
    {
     "data": {
      "text/plain": [
       "2848118"
      ]
     },
     "execution_count": 56,
     "metadata": {},
     "output_type": "execute_result"
    }
   ],
   "source": [
    "np.sum( pop_sum[weather == '흐림' ] )"
   ]
  },
  {
   "cell_type": "code",
   "execution_count": 57,
   "metadata": {},
   "outputs": [
    {
     "data": {
      "text/plain": [
       "1300890"
      ]
     },
     "execution_count": 57,
     "metadata": {},
     "output_type": "execute_result"
    }
   ],
   "source": [
    "np.sum( pop_sum[weather == '비' ] )"
   ]
  },
  {
   "cell_type": "code",
   "execution_count": 58,
   "metadata": {},
   "outputs": [
    {
     "data": {
      "text/plain": [
       "16951"
      ]
     },
     "execution_count": 58,
     "metadata": {},
     "output_type": "execute_result"
    }
   ],
   "source": [
    "np.max( pop_sum )"
   ]
  },
  {
   "cell_type": "code",
   "execution_count": 63,
   "metadata": {},
   "outputs": [
    {
     "data": {
      "text/plain": [
       "('경상북도 구미시 인동동', '롯데리아앞', '2010-10-26', '주중', '맑음')"
      ]
     },
     "execution_count": 63,
     "metadata": {},
     "output_type": "execute_result"
    }
   ],
   "source": [
    "name[ np.max( pop_sum ) ], area[ np.max( pop_sum ) ], date[ np.max( pop_sum ) ], week[ np.max( pop_sum ) ], weather[ np.max( pop_sum ) ]"
   ]
  },
  {
   "cell_type": "code",
   "execution_count": 64,
   "metadata": {},
   "outputs": [
    {
     "data": {
      "text/plain": [
       "('대전광역시 서구 월평동', '신촌네거리 계룡건설 사옥 농협 앞', '2010-06-21', '주중', '맑음')"
      ]
     },
     "execution_count": 64,
     "metadata": {},
     "output_type": "execute_result"
    }
   ],
   "source": [
    "name[ np.min( pop_sum ) ], area[ np.min( pop_sum ) ], date[ np.min( pop_sum ) ], week[ np.min( pop_sum ) ], weather[ np.min( pop_sum ) ]"
   ]
  },
  {
   "cell_type": "code",
   "execution_count": 87,
   "metadata": {},
   "outputs": [
    {
     "data": {
      "text/plain": [
       "array([[ 1520],\n",
       "       [ 2700],\n",
       "       [ 2730],\n",
       "       [ 1662],\n",
       "       [ 1700],\n",
       "       [ 2792],\n",
       "       [ 4212],\n",
       "       [ 2884],\n",
       "       [11218],\n",
       "       [ 5717]])"
      ]
     },
     "execution_count": 87,
     "metadata": {},
     "output_type": "execute_result"
    }
   ],
   "source": [
    "pop.max( axis = 1 )[ : , np.newaxis ]"
   ]
  },
  {
   "cell_type": "code",
   "execution_count": null,
   "metadata": {},
   "outputs": [],
   "source": []
  }
 ],
 "metadata": {
  "kernelspec": {
   "display_name": "Python 3",
   "language": "python",
   "name": "python3"
  },
  "language_info": {
   "codemirror_mode": {
    "name": "ipython",
    "version": 3
   },
   "file_extension": ".py",
   "mimetype": "text/x-python",
   "name": "python",
   "nbconvert_exporter": "python",
   "pygments_lexer": "ipython3",
   "version": "3.7.3"
  }
 },
 "nbformat": 4,
 "nbformat_minor": 2
}
